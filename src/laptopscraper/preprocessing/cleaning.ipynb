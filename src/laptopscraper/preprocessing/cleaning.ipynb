{
 "cells": [
  {
   "cell_type": "code",
   "execution_count": 789,
   "id": "3d6d4a8b-5ab9-4fca-97bb-1cf4031eaaf0",
   "metadata": {},
   "outputs": [],
   "source": [
    "import numpy as np\n",
    "import pandas as pd\n",
    "import os.path\n",
    "import re"
   ]
  },
  {
   "cell_type": "code",
   "execution_count": 790,
   "id": "7eb571a8-ecaf-4268-8804-a317fbe4a341",
   "metadata": {},
   "outputs": [
    {
     "data": {
      "text/html": [
       "<div>\n",
       "<style scoped>\n",
       "    .dataframe tbody tr th:only-of-type {\n",
       "        vertical-align: middle;\n",
       "    }\n",
       "\n",
       "    .dataframe tbody tr th {\n",
       "        vertical-align: top;\n",
       "    }\n",
       "\n",
       "    .dataframe thead th {\n",
       "        text-align: right;\n",
       "    }\n",
       "</style>\n",
       "<table border=\"1\" class=\"dataframe\">\n",
       "  <thead>\n",
       "    <tr style=\"text-align: right;\">\n",
       "      <th></th>\n",
       "      <th>Product</th>\n",
       "      <th>Price</th>\n",
       "      <th>Brand</th>\n",
       "      <th>Core</th>\n",
       "      <th>RAM</th>\n",
       "      <th>ScrSize</th>\n",
       "      <th>GraphicCard</th>\n",
       "      <th>Drive_Type</th>\n",
       "      <th>Capacity</th>\n",
       "      <th>OperSystem</th>\n",
       "      <th>Weight</th>\n",
       "      <th>Madein</th>\n",
       "      <th>Since</th>\n",
       "      <th>Shop</th>\n",
       "      <th>URL</th>\n",
       "    </tr>\n",
       "  </thead>\n",
       "  <tbody>\n",
       "    <tr>\n",
       "      <th>0</th>\n",
       "      <td>Laptop Acer TravelMate B3 TMB311 31 C2HB N4020...</td>\n",
       "      <td>5490000.0</td>\n",
       "      <td>Acer</td>\n",
       "      <td>Intel Celeron</td>\n",
       "      <td>4</td>\n",
       "      <td>11.6</td>\n",
       "      <td>Card tích hợp - Intel UHD Graphics 600</td>\n",
       "      <td>SSD</td>\n",
       "      <td>128 GB SSD M2 PCIe</td>\n",
       "      <td>Windows 11 Home SL</td>\n",
       "      <td>1.4</td>\n",
       "      <td>NaN</td>\n",
       "      <td>2021</td>\n",
       "      <td>Dienmayxanh</td>\n",
       "      <td>https://www.dienmayxanh.com/laptop/acer-travel...</td>\n",
       "    </tr>\n",
       "    <tr>\n",
       "      <th>1</th>\n",
       "      <td>Laptop Apple MacBook Air M1 2020 8GB/256GB/7-c...</td>\n",
       "      <td>27490000.0</td>\n",
       "      <td>MacBook</td>\n",
       "      <td>Apple M1</td>\n",
       "      <td>8</td>\n",
       "      <td>13.3</td>\n",
       "      <td>Card tích hợp - 7 nhân GPU</td>\n",
       "      <td>SSD</td>\n",
       "      <td>256 GB SSD</td>\n",
       "      <td>Mac OS</td>\n",
       "      <td>1.29</td>\n",
       "      <td>NaN</td>\n",
       "      <td>2020</td>\n",
       "      <td>Dienmayxanh</td>\n",
       "      <td>https://www.dienmayxanh.com/laptop/apple-macbo...</td>\n",
       "    </tr>\n",
       "    <tr>\n",
       "      <th>2</th>\n",
       "      <td>Laptop MacBook Pro 14 M1 Pro 2021 8-core CPU/1...</td>\n",
       "      <td>NaN</td>\n",
       "      <td>MacBook</td>\n",
       "      <td>Apple M1 Pro</td>\n",
       "      <td>16</td>\n",
       "      <td>14.2</td>\n",
       "      <td>Card tích hợp - 14 nhân GPU</td>\n",
       "      <td>SSD</td>\n",
       "      <td>512 GB SSD</td>\n",
       "      <td>Mac OS</td>\n",
       "      <td>1.6</td>\n",
       "      <td>NaN</td>\n",
       "      <td>10/2021</td>\n",
       "      <td>Dienmayxanh</td>\n",
       "      <td>https://www.dienmayxanh.com/laptop/macbook-pro...</td>\n",
       "    </tr>\n",
       "    <tr>\n",
       "      <th>3</th>\n",
       "      <td>Laptop Asus TUF Gaming FX506LHB i5 10300H/8GB/...</td>\n",
       "      <td>20990000.0</td>\n",
       "      <td>Asus</td>\n",
       "      <td>Intel Core i5 Comet Lake</td>\n",
       "      <td>8</td>\n",
       "      <td>15.6</td>\n",
       "      <td>Card rời - NVIDIA GeForce GTX 1650 4 GB</td>\n",
       "      <td>SSD</td>\n",
       "      <td>512 GB SSD NVMe PCIe (Có thể tháo ra, lắp than...</td>\n",
       "      <td>Windows 11 Home SL</td>\n",
       "      <td>2.3</td>\n",
       "      <td>NaN</td>\n",
       "      <td>2021</td>\n",
       "      <td>Dienmayxanh</td>\n",
       "      <td>https://www.dienmayxanh.com/laptop/asus-tuf-ga...</td>\n",
       "    </tr>\n",
       "    <tr>\n",
       "      <th>4</th>\n",
       "      <td>Laptop Apple MacBook Air M2 2022 8GB/256GB/8-c...</td>\n",
       "      <td>32990000.0</td>\n",
       "      <td>MacBook</td>\n",
       "      <td>Intel Core i5 Comet Lake</td>\n",
       "      <td>8</td>\n",
       "      <td>13.6</td>\n",
       "      <td>Card tích hợp - 8 nhân GPU</td>\n",
       "      <td>SSD</td>\n",
       "      <td>256 GB SSD</td>\n",
       "      <td>Mac OS</td>\n",
       "      <td>1.24</td>\n",
       "      <td>NaN</td>\n",
       "      <td>6/2022</td>\n",
       "      <td>Dienmayxanh</td>\n",
       "      <td>https://www.dienmayxanh.com/laptop/apple-macbo...</td>\n",
       "    </tr>\n",
       "  </tbody>\n",
       "</table>\n",
       "</div>"
      ],
      "text/plain": [
       "                                             Product       Price    Brand  \\\n",
       "0  Laptop Acer TravelMate B3 TMB311 31 C2HB N4020...   5490000.0     Acer   \n",
       "1  Laptop Apple MacBook Air M1 2020 8GB/256GB/7-c...  27490000.0  MacBook   \n",
       "2  Laptop MacBook Pro 14 M1 Pro 2021 8-core CPU/1...         NaN  MacBook   \n",
       "3  Laptop Asus TUF Gaming FX506LHB i5 10300H/8GB/...  20990000.0     Asus   \n",
       "4  Laptop Apple MacBook Air M2 2022 8GB/256GB/8-c...  32990000.0  MacBook   \n",
       "\n",
       "                       Core RAM  ScrSize  \\\n",
       "0             Intel Celeron   4     11.6   \n",
       "1                  Apple M1   8     13.3   \n",
       "2              Apple M1 Pro  16     14.2   \n",
       "3  Intel Core i5 Comet Lake   8     15.6   \n",
       "4  Intel Core i5 Comet Lake   8     13.6   \n",
       "\n",
       "                               GraphicCard Drive_Type  \\\n",
       "0   Card tích hợp - Intel UHD Graphics 600        SSD   \n",
       "1               Card tích hợp - 7 nhân GPU        SSD   \n",
       "2              Card tích hợp - 14 nhân GPU        SSD   \n",
       "3  Card rời - NVIDIA GeForce GTX 1650 4 GB        SSD   \n",
       "4               Card tích hợp - 8 nhân GPU        SSD   \n",
       "\n",
       "                                            Capacity          OperSystem  \\\n",
       "0                                 128 GB SSD M2 PCIe  Windows 11 Home SL   \n",
       "1                                         256 GB SSD              Mac OS   \n",
       "2                                         512 GB SSD              Mac OS   \n",
       "3  512 GB SSD NVMe PCIe (Có thể tháo ra, lắp than...  Windows 11 Home SL   \n",
       "4                                         256 GB SSD              Mac OS   \n",
       "\n",
       "  Weight Madein    Since         Shop  \\\n",
       "0    1.4    NaN     2021  Dienmayxanh   \n",
       "1   1.29    NaN     2020  Dienmayxanh   \n",
       "2    1.6    NaN  10/2021  Dienmayxanh   \n",
       "3    2.3    NaN     2021  Dienmayxanh   \n",
       "4   1.24    NaN   6/2022  Dienmayxanh   \n",
       "\n",
       "                                                 URL  \n",
       "0  https://www.dienmayxanh.com/laptop/acer-travel...  \n",
       "1  https://www.dienmayxanh.com/laptop/apple-macbo...  \n",
       "2  https://www.dienmayxanh.com/laptop/macbook-pro...  \n",
       "3  https://www.dienmayxanh.com/laptop/asus-tuf-ga...  \n",
       "4  https://www.dienmayxanh.com/laptop/apple-macbo...  "
      ]
     },
     "execution_count": 790,
     "metadata": {},
     "output_type": "execute_result"
    }
   ],
   "source": [
    "# Import Data\n",
    "df = pd.read_csv('data.csv')\n",
    "df.head(5)"
   ]
  },
  {
   "cell_type": "code",
   "execution_count": 791,
   "id": "58af5186-de6b-4879-b0af-9974e43d5956",
   "metadata": {},
   "outputs": [
    {
     "name": "stdout",
     "output_type": "stream",
     "text": [
      "<class 'pandas.core.frame.DataFrame'>\n",
      "RangeIndex: 864 entries, 0 to 863\n",
      "Data columns (total 15 columns):\n",
      " #   Column       Non-Null Count  Dtype  \n",
      "---  ------       --------------  -----  \n",
      " 0   Product      864 non-null    object \n",
      " 1   Price        856 non-null    float64\n",
      " 2   Brand        864 non-null    object \n",
      " 3   Core         864 non-null    object \n",
      " 4   RAM          864 non-null    object \n",
      " 5   ScrSize      864 non-null    float64\n",
      " 6   GraphicCard  864 non-null    object \n",
      " 7   Drive_Type   864 non-null    object \n",
      " 8   Capacity     864 non-null    object \n",
      " 9   OperSystem   864 non-null    object \n",
      " 10  Weight       864 non-null    object \n",
      " 11  Madein       202 non-null    object \n",
      " 12  Since        417 non-null    object \n",
      " 13  Shop         864 non-null    object \n",
      " 14  URL          864 non-null    object \n",
      "dtypes: float64(2), object(13)\n",
      "memory usage: 101.4+ KB\n"
     ]
    }
   ],
   "source": [
    "df.info()"
   ]
  },
  {
   "cell_type": "code",
   "execution_count": 792,
   "id": "253010a2",
   "metadata": {},
   "outputs": [],
   "source": [
    "# Delete Madein and Since columns\n",
    "del df['Madein']\n",
    "del df['Since']"
   ]
  },
  {
   "cell_type": "markdown",
   "id": "a085db39",
   "metadata": {},
   "source": [
    "### dtypes of ram, capacity, weight must be numeric, but object => have error"
   ]
  },
  {
   "cell_type": "markdown",
   "id": "48a6c774",
   "metadata": {},
   "source": [
    "#### Fix ram column"
   ]
  },
  {
   "cell_type": "code",
   "execution_count": 793,
   "id": "2d0aaa27",
   "metadata": {},
   "outputs": [
    {
     "data": {
      "text/plain": [
       "array(['4', '8', '16', '32', '32GB',\n",
       "       '1 x 4GB, 1 x 4GB Onboard  DDR4  2400MHz ( 1 Khe cắm / Hỗ trợ tối đa 12GB )',\n",
       "       '1 x 4GB Onboard  DDR4 ( 1 Khe cắm / Hỗ trợ tối đa 20GB )',\n",
       "       '1 x 4GB, 1 x 4GB Onboard  DDR4  2666MHz ( 1 Khe cắm / Hỗ trợ tối đa 20GB )',\n",
       "       '1 x 4GB  DDR4  3200MHz ( 2 Khe cắm',\n",
       "       '2 x 4GB  DDR4  3200MHz ( 2 Khe cắm',\n",
       "       '2 x 4GB  DDR4  2400MHz ( 2 Khe cắm / Hỗ trợ tối đa 32GB )',\n",
       "       '2 x 4GB  DDR4  3200MHz ( 2 Khe cắm / Hỗ trợ tối đa 32GB )',\n",
       "       '1 x 4GB  DDR4  3200MHz ( 1 Khe cắm',\n",
       "       '1 x 4GB Onboard  DDR4  Hỗ trợ tối đa 20GB )',\n",
       "       '1 x 4GB Onboard  DDR4  2400MHz ( 1 Khe cắm / Hỗ trợ tối đa 12GB )',\n",
       "       '2 x 4GB  DDR4  3200MHz',\n",
       "       '1 x 4GB Onboard  2400MHz ( 2 Khe cắm / Hỗ trợ tối đa 20GB )',\n",
       "       '1 x 4GB Onboard  LPDDR4X  Không nâng cấp được )',\n",
       "       '2 x 4GB  DDR4  2933MHz ( 2 Khe cắm',\n",
       "       '1 x 4GB Onboard, 1 x 4GB  DDR4  2400MHz ( 1 Khe cắm / Hỗ trợ tối đa 12GB )',\n",
       "       '1 x 4GB Onboard  DDR4 ( 2 Khe cắm / Hỗ trợ tối đa 20GB )',\n",
       "       '1 x 4GB  DDR4  2666MHz ( 2 Khe cắm / Hỗ trợ tối đa 32GB )',\n",
       "       '1 x 4GB  DDR4  3200MHz',\n",
       "       '1 x 4GB  DDR4  3200MHz ( 2 Khe cắm / Hỗ trợ tối đa 32GB )',\n",
       "       '1 x 4GB, 1 x 4GB Onboard  DDR4 ( 1 Khe cắm / Hỗ trợ tối đa 20GB )',\n",
       "       '1 x 4GB Onboard  DDR4  2133MHz ( 1 Khe cắm / Hỗ trợ tối đa 12GB )',\n",
       "       '1 x 4GB Onboard  LPDDR4X',\n",
       "       '1 x 4GB Onboard  DDR4  2666MHz ( 1 Khe cắm / Hỗ trợ tối đa 36GB )',\n",
       "       '2 x 4GB  GDDR4  3200MHz ( 2 Khe cắm / Hỗ trợ tối đa 32GB )',\n",
       "       '1 x 4GB  DDR4  3200MHz ( 1 Khe cắm / Hỗ trợ tối đa 12GB )'],\n",
       "      dtype=object)"
      ]
     },
     "execution_count": 793,
     "metadata": {},
     "output_type": "execute_result"
    }
   ],
   "source": [
    "# Inspect ram column\n",
    "df['RAM'].unique()"
   ]
  },
  {
   "cell_type": "code",
   "execution_count": 794,
   "id": "3cbb8b1e",
   "metadata": {},
   "outputs": [],
   "source": [
    "for i, row in df.iterrows():\n",
    "    if '1 x 4GB' in df.at[i,'RAM']:\n",
    "        df.at[i,'RAM'] = '4'\n",
    "    if '2 x 4GB' in df.at[i, 'RAM']:\n",
    "        df.at[i,'RAM'] = '8'\n",
    "    if '1 x 8GB' in df.at[i,'RAM']:\n",
    "        df.at[i,'RAM'] = '8'\n",
    "    if '2 x 8GB' in df.at[i, 'RAM']:\n",
    "        df.at[i,'RAM'] = '16'\n",
    "    if '1 x 16GB' in df.at[i,'RAM']:\n",
    "        df.at[i,'RAM'] = '16'\n",
    "    if '2 x 16GB' in df.at[i, 'RAM']:\n",
    "        df.at[i,'RAM'] = '32'\n",
    "\n",
    "# 32GB -> 32 \n",
    "df['RAM'] = df['RAM'].replace(['32GB'], '32')"
   ]
  },
  {
   "cell_type": "code",
   "execution_count": 795,
   "id": "de3dc579",
   "metadata": {},
   "outputs": [],
   "source": [
    "# Change object type to int type\n",
    "df['RAM'] = df['RAM'].astype(int)"
   ]
  },
  {
   "cell_type": "markdown",
   "id": "3ccf07b9",
   "metadata": {},
   "source": [
    "#### Fix capacity column"
   ]
  },
  {
   "cell_type": "code",
   "execution_count": 796,
   "id": "46e576bb",
   "metadata": {},
   "outputs": [
    {
     "data": {
      "text/plain": [
       "array(['128 GB SSD M2 PCIe', '256 GB SSD', '512 GB SSD',\n",
       "       '512 GB SSD NVMe PCIe (Có thể tháo ra, lắp thanh khác tối đa 1 TB)',\n",
       "       '512 GB SSD NVMe PCIe', '1 TB SSD',\n",
       "       '256 GB SSD NVMe PCIe (Có thể tháo ra, lắp thanh khác tối đa 2TB (2280) / 1TB (2230))',\n",
       "       '512 GB SSD NVMe PCIe (Có thể tháo ra, lắp thanh khác không giới hạn dung lượng)',\n",
       "       '256 GB SSD NVMe PCIe (Có thể tháo ra, lắp thanh khác tối đa 1 TB)',\n",
       "       '512 GB SSD NVMe PCIe (Có thể tháo ra, lắp thanh khác tối đa 1 TB (2280) / 512 GB (2242))',\n",
       "       'Hỗ trợ thêm 1 khe cắm SSD M.2 PCIe mở rộng (nâng cấp tối đa 1 TB)',\n",
       "       '512 GB SSD NVMe PCIe (Có thể tháo ra, lắp thanh khác tối đa 2 TB (Gen 3) / 1 TB (Gen 4))',\n",
       "       '256 GB SSD M.2 SATA 3 (Có thể tháo ra lắp thanh khác tối đa 1 TB)',\n",
       "       '512 GB SSD NVMe PCIe (Có thể tháo ra, lắp thanh khác tối đa 2 TB (2280) / 1 TB (2230))',\n",
       "       '256 GB SSD NVMe PCIe (Có thể tháo ra, lắp thanh khác tối đa 2 TB (2280) / 512 GB (2230))',\n",
       "       '256 GB SSD NVMe PCIe (Có thể tháo ra, lắp thanh khác tối đa 1 TB (2280) / 512 GB (2242))',\n",
       "       '512 GB SSD NVMe PCIe (Có thể tháo ra, lắp thanh khác tối đa 1 TB (Gen 3))',\n",
       "       'Hỗ trợ khe cắm HDD SATA (nâng cấp tối đa 2 TB)',\n",
       "       'Hỗ trợ khe cắm HDD SATA 2.5 inch mở rộng (nâng cấp tối đa 2 TB)',\n",
       "       'Không hỗ trợ khe cắm HDD', '256 GB SSD NVMe PCIe',\n",
       "       '256 GB SSD NVMe PCIe (Có thể tháo ra, lắp thanh khác tối đa 512 GB)',\n",
       "       '1 TB SSD M.2 PCIe',\n",
       "       '512 GB SSD NVMe PCIe (Có thể tháo ra, lắp thanh khác tối đa 2 TB)',\n",
       "       'Hỗ trợ thêm 1 khe cắm SSD M.2 PCIe mở rộng (nâng cấp tối đa 2 TB)',\n",
       "       '256 GB SSD NVMe PCIe (Có thể tháo ra, lắp thanh khác dung lượng không giới hạn)',\n",
       "       '128 GB SSD M.2 PCIe (Có thể tháo ra, lắp thanh khác tối đa 1 TB)',\n",
       "       'Không hỗ trợ nâng cấp, không hỗ trợ thêm khe cắm mở rộng nào khác',\n",
       "       'Hỗ trợ thêm 1 khe cắm HDD SATA (nâng cấp tối đa 1 TB)',\n",
       "       'Hỗ trợ khe cắm HDD SATA',\n",
       "       '256 GB SSD NVMe PCIe (Có thể tháo ra, lắp thanh khác tối đa 2 TB (2280) / 1 TB (2230))',\n",
       "       'Hỗ trợ khe cắm SSD M.2 SATA3 (nâng cấp tối đa 1 TB)',\n",
       "       '128GB eMMC', '512', '256', '128', '1000', '1281000'], dtype=object)"
      ]
     },
     "execution_count": 796,
     "metadata": {},
     "output_type": "execute_result"
    }
   ],
   "source": [
    "# Inspect capacity column\n",
    "df['Capacity'].unique()"
   ]
  },
  {
   "cell_type": "code",
   "execution_count": 797,
   "id": "98c983b0",
   "metadata": {},
   "outputs": [],
   "source": [
    "# 1281000 means SSD 128 GB, HDD 1000 GB\n",
    "for index in list(df[df['Capacity'] == '1281000'].index):\n",
    "    df.at[index, 'Capacity'] = '1024'"
   ]
  },
  {
   "cell_type": "code",
   "execution_count": 798,
   "id": "215d9e42",
   "metadata": {},
   "outputs": [],
   "source": [
    "for i, row in df.iterrows():\n",
    "    if df.at[i,'Capacity'] != 'SSD 128 GB, HDD 1000 GB':\n",
    "        if '128 GB' in df.at[i,'Capacity']:\n",
    "            df.at[i,'Capacity'] = '128'\n",
    "        if '256 GB' in df.at[i,'Capacity']:\n",
    "            df.at[i,'Capacity'] = '256'\n",
    "        if '512 GB' in df.at[i,'Capacity']:\n",
    "            df.at[i,'Capacity'] = '512'\n",
    "        if '1 TB' in df.at[i,'Capacity']:\n",
    "            df.at[i,'Capacity'] = '1024'\n",
    "        if '1000' in df.at[i,'Capacity']:\n",
    "            df.at[i,'Capacity'] = '1024'"
   ]
  },
  {
   "cell_type": "code",
   "execution_count": 799,
   "id": "b16f1206",
   "metadata": {},
   "outputs": [],
   "source": [
    "for i, row in df.iterrows():\n",
    "    if df.at[i,'Capacity'] != 'SSD 128 GB, HDD 1000 GB':\n",
    "        if df.at[i,'Capacity'] not in ['128', '256', '512', '1024']:\n",
    "            if df.at[i,'Price'] > 15000000:\n",
    "                df.at[i,'Capacity'] = '512'\n",
    "            else:\n",
    "                df.at[i,'Capacity'] = '216'"
   ]
  },
  {
   "cell_type": "code",
   "execution_count": 800,
   "id": "8b7a39fd",
   "metadata": {},
   "outputs": [
    {
     "data": {
      "text/plain": [
       "array(['128', '256', '512', '1024', '216'], dtype=object)"
      ]
     },
     "execution_count": 800,
     "metadata": {},
     "output_type": "execute_result"
    }
   ],
   "source": [
    "df['Capacity'].unique()"
   ]
  },
  {
   "cell_type": "code",
   "execution_count": 801,
   "id": "30e8cabc",
   "metadata": {},
   "outputs": [],
   "source": [
    "# Change object type to int type\n",
    "df['Capacity'] = df['Capacity'].astype(int)"
   ]
  },
  {
   "cell_type": "markdown",
   "id": "7796aa17",
   "metadata": {},
   "source": [
    "#### Fix weight column"
   ]
  },
  {
   "cell_type": "code",
   "execution_count": 802,
   "id": "37902de2",
   "metadata": {},
   "outputs": [
    {
     "data": {
      "text/plain": [
       "array(['1.4', '1.29', '1.6', '2.3', '1.24', '1.47', '1.168', '2.2', '2.8',\n",
       "       '1.7', '1.65', '2.46', '2.1', '1.3', '1.63', '1.69', '1.14',\n",
       "       '1.66', '2.81', '1.44', '1.38', '1.87', '2', '2.315', '1.72',\n",
       "       '1.46', '1.97', '1.26', '1.75', '1.435', '1.285', '1.18', '1.2',\n",
       "       '0.966', '1.42', '1.34', '2.5', '1.8', '2.35', '1.39', '2.4',\n",
       "       '1.91', '1.17', '1.28', '1.51', '0.999', '1.25', '1.64', '1.74',\n",
       "       '1.19', '0.77', '1.55', '2.15', '1.294', '1.11', '1.685', '1.73',\n",
       "       '1.27', '1.5', '1.9', '1.41', '1.517', '1.525', '1.346', '1.682',\n",
       "       '1.49', '1.79', '1.81', '1.45', '1.414', '1.52', '1.9 kg',\n",
       "       '2.0 kg', '2.25 kg', '2 kg', '1.97 kg', '1.4 kg', '1.95 kg',\n",
       "       '2.5 kg', '2.3 kg', '1.86 kg', '1.3 kg', '1.7 kg', '1.8 kg',\n",
       "       '2.1 kg', '2.2 kg', '1.6 kg', '1.63 kg', '1.702 kg', '1.41 kg',\n",
       "       '2.35 kg', '1452 g', '1.69 kg', '2.81 kg', '1.45 kg', '1.72 kg',\n",
       "       '1.55 kg', '1.442 kg', '2.46 kg', '1.23 kg', '1.543 kg',\n",
       "       '1.733 kg', '1.4 g', '1.1 kg', '1.47 kg', '1.98 kg', '1.74 kg',\n",
       "       '1.5 kg', '2.129 kg', '1.133 kg', '2.20 kg', '1.68 kg', '1.35 kg',\n",
       "       '1.39 kg', '1600 g', '2.6', '1.91 kg', '2.315 kg', '1.66 kg',\n",
       "       '2.6 kg', '1.64 kg', '0.775 kg', '1.17 kg', '1.19 kg', '1640 g',\n",
       "       '1.13 kg', '1.44 kg', '1.85 kg', '1705', '1.27 kg', '1.53 kg',\n",
       "       '1.517 kg', '1.60 kg', '1.65 kg', '1.83 kg', '0.9 kg', '1.96 kg',\n",
       "       '2.37 kg', '1.36 kg', '1.199 kg', '1.87 kg', '891 g', '999 g',\n",
       "       '1400', '1.78 kg', '1.80 kg', '1.46 kg', '1.58 kg', '1.1', '1',\n",
       "       '0.9', '1.35', '2.7', '2.9'], dtype=object)"
      ]
     },
     "execution_count": 802,
     "metadata": {},
     "output_type": "execute_result"
    }
   ],
   "source": [
    "# Inspect weight column\n",
    "df['Weight'].unique()"
   ]
  },
  {
   "cell_type": "code",
   "execution_count": 803,
   "id": "af2c8a5a",
   "metadata": {},
   "outputs": [],
   "source": [
    "for i, row in df.iterrows():\n",
    "    df.at[i,'Weight'] = re.sub('\\D', '', df.at[i,'Weight'])"
   ]
  },
  {
   "cell_type": "code",
   "execution_count": 804,
   "id": "6de8786c",
   "metadata": {},
   "outputs": [],
   "source": [
    "for i, row in df.iterrows():\n",
    "    if len(df.at[i,'Weight']) == 4:\n",
    "        df.at[i,'Weight'] = str(round(int(df.at[i,'Weight'])/1000, 1))\n",
    "    if len(df.at[i,'Weight']) == 2:\n",
    "        df.at[i,'Weight'] = str(round(int(df.at[i,'Weight'])/10, 1))"
   ]
  },
  {
   "cell_type": "code",
   "execution_count": 805,
   "id": "115b11a5",
   "metadata": {},
   "outputs": [],
   "source": [
    "for i, row in df.iterrows():\n",
    "    if '.' not in df.at[i,'Weight'] and len(df.at[i,'Weight']) == 3:\n",
    "        if df.at[i,'Weight'] < '3':\n",
    "            df.at[i,'Weight'] = str(round(int(df.at[i,'Weight'])/100, 1))\n",
    "            pass\n",
    "        else:\n",
    "            df.at[i,'Weight'] = str(round(int(df.at[i,'Weight'])/1000, 1))"
   ]
  },
  {
   "cell_type": "code",
   "execution_count": 806,
   "id": "b6f4e8cb",
   "metadata": {},
   "outputs": [
    {
     "data": {
      "text/plain": [
       "array(['1.4', '1.3', '1.6', '2.3', '1.2', '1.5', '2.2', '2.8', '1.7',\n",
       "       '2.5', '2.1', '1.1', '1.9', '2', '2.0', '1.8', '1.0', '2.4', '0.8',\n",
       "       '2.6', '0.9', '1', '2.7', '2.9'], dtype=object)"
      ]
     },
     "execution_count": 806,
     "metadata": {},
     "output_type": "execute_result"
    }
   ],
   "source": [
    "df['Weight'].unique()"
   ]
  },
  {
   "cell_type": "code",
   "execution_count": 807,
   "id": "3126d907",
   "metadata": {},
   "outputs": [],
   "source": [
    "# Change object type to float type\n",
    "df['Weight'] = df['Weight'].astype(float)"
   ]
  },
  {
   "cell_type": "code",
   "execution_count": 808,
   "id": "56a672c3-9a14-459f-8fee-3a9c7edecad6",
   "metadata": {
    "jupyter": {
     "source_hidden": true
    },
    "tags": []
   },
   "outputs": [],
   "source": [
    "def missing_values_table(df):\n",
    "        # Total missing values\n",
    "        mis_val = df.isnull().sum()\n",
    "        \n",
    "        # Percentage of missing values\n",
    "        mis_val_percent = 100 * df.isnull().sum() / len(df)\n",
    "        \n",
    "        # Make a table with the results\n",
    "        mis_val_table = pd.concat([mis_val, mis_val_percent], axis=1)\n",
    "        \n",
    "        # Rename the columns\n",
    "        mis_val_table_ren_columns = mis_val_table.rename(\n",
    "        columns = {0 : 'Missing Values', 1 : '% of Total Values'})\n",
    "        \n",
    "        # Sort the table by percentage of missing descending\n",
    "        mis_val_table_ren_columns = mis_val_table_ren_columns[\n",
    "            mis_val_table_ren_columns.iloc[:,1] != 0].sort_values(\n",
    "        '% of Total Values', ascending=False).round(1)\n",
    "        \n",
    "        # Print some summary information\n",
    "        print (\"Your selected dataframe has \" + str(df.shape[1]) + \" columns.\\n\"      \n",
    "            \"There are \" + str(mis_val_table_ren_columns.shape[0]) +\n",
    "              \" columns that have missing values.\")\n",
    "        \n",
    "        # Return the dataframe with missing information\n",
    "        return mis_val_table_ren_columns"
   ]
  },
  {
   "cell_type": "code",
   "execution_count": 809,
   "id": "938ec5e7-24be-4bfb-855e-2c4885839a5e",
   "metadata": {},
   "outputs": [
    {
     "name": "stdout",
     "output_type": "stream",
     "text": [
      "Your selected dataframe has 13 columns.\n",
      "There are 1 columns that have missing values.\n"
     ]
    },
    {
     "data": {
      "text/html": [
       "<div>\n",
       "<style scoped>\n",
       "    .dataframe tbody tr th:only-of-type {\n",
       "        vertical-align: middle;\n",
       "    }\n",
       "\n",
       "    .dataframe tbody tr th {\n",
       "        vertical-align: top;\n",
       "    }\n",
       "\n",
       "    .dataframe thead th {\n",
       "        text-align: right;\n",
       "    }\n",
       "</style>\n",
       "<table border=\"1\" class=\"dataframe\">\n",
       "  <thead>\n",
       "    <tr style=\"text-align: right;\">\n",
       "      <th></th>\n",
       "      <th>Missing Values</th>\n",
       "      <th>% of Total Values</th>\n",
       "    </tr>\n",
       "  </thead>\n",
       "  <tbody>\n",
       "    <tr>\n",
       "      <th>Price</th>\n",
       "      <td>8</td>\n",
       "      <td>0.9</td>\n",
       "    </tr>\n",
       "  </tbody>\n",
       "</table>\n",
       "</div>"
      ],
      "text/plain": [
       "       Missing Values  % of Total Values\n",
       "Price               8                0.9"
      ]
     },
     "execution_count": 809,
     "metadata": {},
     "output_type": "execute_result"
    }
   ],
   "source": [
    "missing_values_table(df)"
   ]
  },
  {
   "cell_type": "code",
   "execution_count": 810,
   "id": "dc1161ae",
   "metadata": {},
   "outputs": [],
   "source": [
    "# Drop rows have null value\n",
    "df = df.dropna(how='any',axis=0)"
   ]
  },
  {
   "cell_type": "code",
   "execution_count": 811,
   "id": "e20848ad",
   "metadata": {},
   "outputs": [
    {
     "name": "stdout",
     "output_type": "stream",
     "text": [
      "Your selected dataframe has 13 columns.\n",
      "There are 0 columns that have missing values.\n"
     ]
    },
    {
     "data": {
      "text/html": [
       "<div>\n",
       "<style scoped>\n",
       "    .dataframe tbody tr th:only-of-type {\n",
       "        vertical-align: middle;\n",
       "    }\n",
       "\n",
       "    .dataframe tbody tr th {\n",
       "        vertical-align: top;\n",
       "    }\n",
       "\n",
       "    .dataframe thead th {\n",
       "        text-align: right;\n",
       "    }\n",
       "</style>\n",
       "<table border=\"1\" class=\"dataframe\">\n",
       "  <thead>\n",
       "    <tr style=\"text-align: right;\">\n",
       "      <th></th>\n",
       "      <th>Missing Values</th>\n",
       "      <th>% of Total Values</th>\n",
       "    </tr>\n",
       "  </thead>\n",
       "  <tbody>\n",
       "  </tbody>\n",
       "</table>\n",
       "</div>"
      ],
      "text/plain": [
       "Empty DataFrame\n",
       "Columns: [Missing Values, % of Total Values]\n",
       "Index: []"
      ]
     },
     "execution_count": 811,
     "metadata": {},
     "output_type": "execute_result"
    }
   ],
   "source": [
    "missing_values_table(df)"
   ]
  },
  {
   "cell_type": "code",
   "execution_count": 812,
   "id": "26b92dad-259c-4e17-a343-d8591bc709c3",
   "metadata": {},
   "outputs": [
    {
     "data": {
      "text/plain": [
       "Index(['product', 'price', 'brand', 'core', 'ram', 'scrsize', 'graphiccard',\n",
       "       'drive_type', 'capacity', 'opersystem', 'weight', 'shop', 'url'],\n",
       "      dtype='object')"
      ]
     },
     "execution_count": 812,
     "metadata": {},
     "output_type": "execute_result"
    }
   ],
   "source": [
    "df = df.rename(columns=str.lower)\n",
    "df.columns"
   ]
  },
  {
   "cell_type": "code",
   "execution_count": 813,
   "id": "ac264d35-0f25-41a2-bfd9-bda600c2a8ff",
   "metadata": {},
   "outputs": [
    {
     "data": {
      "text/plain": [
       "Index(['name', 'price', 'brand', 'cpu', 'ram', 'scrsize', 'gpu', 'drive_type',\n",
       "       'memory', 'opersystem', 'weight', 'shop', 'url'],\n",
       "      dtype='object')"
      ]
     },
     "execution_count": 813,
     "metadata": {},
     "output_type": "execute_result"
    }
   ],
   "source": [
    "df = df.rename(\n",
    "    columns={'product':'name',\n",
    "            'graphiccard':'gpu',\n",
    "            'core':'cpu',\n",
    "            'capacity':'memory'})\n",
    "df.columns"
   ]
  },
  {
   "cell_type": "code",
   "execution_count": 814,
   "id": "76cb1c14-5b37-41d6-b6c8-a1c1db0451fd",
   "metadata": {},
   "outputs": [],
   "source": [
    "df['id'] = np.arange(0,len(df))"
   ]
  },
  {
   "cell_type": "code",
   "execution_count": 815,
   "id": "421770e1",
   "metadata": {},
   "outputs": [
    {
     "data": {
      "text/html": [
       "<div>\n",
       "<style scoped>\n",
       "    .dataframe tbody tr th:only-of-type {\n",
       "        vertical-align: middle;\n",
       "    }\n",
       "\n",
       "    .dataframe tbody tr th {\n",
       "        vertical-align: top;\n",
       "    }\n",
       "\n",
       "    .dataframe thead th {\n",
       "        text-align: right;\n",
       "    }\n",
       "</style>\n",
       "<table border=\"1\" class=\"dataframe\">\n",
       "  <thead>\n",
       "    <tr style=\"text-align: right;\">\n",
       "      <th></th>\n",
       "      <th>id</th>\n",
       "      <th>name</th>\n",
       "      <th>price</th>\n",
       "      <th>brand</th>\n",
       "      <th>cpu</th>\n",
       "      <th>ram</th>\n",
       "      <th>scrsize</th>\n",
       "      <th>gpu</th>\n",
       "      <th>drive_type</th>\n",
       "      <th>memory</th>\n",
       "      <th>opersystem</th>\n",
       "      <th>weight</th>\n",
       "      <th>shop</th>\n",
       "      <th>url</th>\n",
       "    </tr>\n",
       "  </thead>\n",
       "  <tbody>\n",
       "    <tr>\n",
       "      <th>0</th>\n",
       "      <td>0</td>\n",
       "      <td>Laptop Acer TravelMate B3 TMB311 31 C2HB N4020...</td>\n",
       "      <td>5490000.0</td>\n",
       "      <td>Acer</td>\n",
       "      <td>Intel Celeron</td>\n",
       "      <td>4</td>\n",
       "      <td>11.6</td>\n",
       "      <td>Card tích hợp - Intel UHD Graphics 600</td>\n",
       "      <td>SSD</td>\n",
       "      <td>128</td>\n",
       "      <td>Windows 11 Home SL</td>\n",
       "      <td>1.4</td>\n",
       "      <td>Dienmayxanh</td>\n",
       "      <td>https://www.dienmayxanh.com/laptop/acer-travel...</td>\n",
       "    </tr>\n",
       "    <tr>\n",
       "      <th>1</th>\n",
       "      <td>1</td>\n",
       "      <td>Laptop Apple MacBook Air M1 2020 8GB/256GB/7-c...</td>\n",
       "      <td>27490000.0</td>\n",
       "      <td>MacBook</td>\n",
       "      <td>Apple M1</td>\n",
       "      <td>8</td>\n",
       "      <td>13.3</td>\n",
       "      <td>Card tích hợp - 7 nhân GPU</td>\n",
       "      <td>SSD</td>\n",
       "      <td>256</td>\n",
       "      <td>Mac OS</td>\n",
       "      <td>1.3</td>\n",
       "      <td>Dienmayxanh</td>\n",
       "      <td>https://www.dienmayxanh.com/laptop/apple-macbo...</td>\n",
       "    </tr>\n",
       "    <tr>\n",
       "      <th>3</th>\n",
       "      <td>2</td>\n",
       "      <td>Laptop Asus TUF Gaming FX506LHB i5 10300H/8GB/...</td>\n",
       "      <td>20990000.0</td>\n",
       "      <td>Asus</td>\n",
       "      <td>Intel Core i5 Comet Lake</td>\n",
       "      <td>8</td>\n",
       "      <td>15.6</td>\n",
       "      <td>Card rời - NVIDIA GeForce GTX 1650 4 GB</td>\n",
       "      <td>SSD</td>\n",
       "      <td>512</td>\n",
       "      <td>Windows 11 Home SL</td>\n",
       "      <td>2.3</td>\n",
       "      <td>Dienmayxanh</td>\n",
       "      <td>https://www.dienmayxanh.com/laptop/asus-tuf-ga...</td>\n",
       "    </tr>\n",
       "    <tr>\n",
       "      <th>4</th>\n",
       "      <td>3</td>\n",
       "      <td>Laptop Apple MacBook Air M2 2022 8GB/256GB/8-c...</td>\n",
       "      <td>32990000.0</td>\n",
       "      <td>MacBook</td>\n",
       "      <td>Intel Core i5 Comet Lake</td>\n",
       "      <td>8</td>\n",
       "      <td>13.6</td>\n",
       "      <td>Card tích hợp - 8 nhân GPU</td>\n",
       "      <td>SSD</td>\n",
       "      <td>256</td>\n",
       "      <td>Mac OS</td>\n",
       "      <td>1.2</td>\n",
       "      <td>Dienmayxanh</td>\n",
       "      <td>https://www.dienmayxanh.com/laptop/apple-macbo...</td>\n",
       "    </tr>\n",
       "    <tr>\n",
       "      <th>5</th>\n",
       "      <td>4</td>\n",
       "      <td>Laptop HP 240 G8 i3 1005G1/4GB/512GB/Win11 (61...</td>\n",
       "      <td>13790000.0</td>\n",
       "      <td>HP</td>\n",
       "      <td>Intel Core i3 Ice Lake</td>\n",
       "      <td>4</td>\n",
       "      <td>14.0</td>\n",
       "      <td>Card tích hợp - Intel UHD Graphics</td>\n",
       "      <td>SSD</td>\n",
       "      <td>512</td>\n",
       "      <td>Windows 11 Home SL</td>\n",
       "      <td>1.5</td>\n",
       "      <td>Dienmayxanh</td>\n",
       "      <td>https://www.dienmayxanh.com/laptop/hp-240-g8-i...</td>\n",
       "    </tr>\n",
       "  </tbody>\n",
       "</table>\n",
       "</div>"
      ],
      "text/plain": [
       "   id                                               name       price    brand  \\\n",
       "0   0  Laptop Acer TravelMate B3 TMB311 31 C2HB N4020...   5490000.0     Acer   \n",
       "1   1  Laptop Apple MacBook Air M1 2020 8GB/256GB/7-c...  27490000.0  MacBook   \n",
       "3   2  Laptop Asus TUF Gaming FX506LHB i5 10300H/8GB/...  20990000.0     Asus   \n",
       "4   3  Laptop Apple MacBook Air M2 2022 8GB/256GB/8-c...  32990000.0  MacBook   \n",
       "5   4  Laptop HP 240 G8 i3 1005G1/4GB/512GB/Win11 (61...  13790000.0       HP   \n",
       "\n",
       "                        cpu  ram  scrsize  \\\n",
       "0             Intel Celeron    4     11.6   \n",
       "1                  Apple M1    8     13.3   \n",
       "3  Intel Core i5 Comet Lake    8     15.6   \n",
       "4  Intel Core i5 Comet Lake    8     13.6   \n",
       "5    Intel Core i3 Ice Lake    4     14.0   \n",
       "\n",
       "                                       gpu drive_type  memory  \\\n",
       "0   Card tích hợp - Intel UHD Graphics 600        SSD     128   \n",
       "1               Card tích hợp - 7 nhân GPU        SSD     256   \n",
       "3  Card rời - NVIDIA GeForce GTX 1650 4 GB        SSD     512   \n",
       "4               Card tích hợp - 8 nhân GPU        SSD     256   \n",
       "5       Card tích hợp - Intel UHD Graphics        SSD     512   \n",
       "\n",
       "           opersystem  weight         shop  \\\n",
       "0  Windows 11 Home SL     1.4  Dienmayxanh   \n",
       "1              Mac OS     1.3  Dienmayxanh   \n",
       "3  Windows 11 Home SL     2.3  Dienmayxanh   \n",
       "4              Mac OS     1.2  Dienmayxanh   \n",
       "5  Windows 11 Home SL     1.5  Dienmayxanh   \n",
       "\n",
       "                                                 url  \n",
       "0  https://www.dienmayxanh.com/laptop/acer-travel...  \n",
       "1  https://www.dienmayxanh.com/laptop/apple-macbo...  \n",
       "3  https://www.dienmayxanh.com/laptop/asus-tuf-ga...  \n",
       "4  https://www.dienmayxanh.com/laptop/apple-macbo...  \n",
       "5  https://www.dienmayxanh.com/laptop/hp-240-g8-i...  "
      ]
     },
     "execution_count": 815,
     "metadata": {},
     "output_type": "execute_result"
    }
   ],
   "source": [
    "# Move id column to 1st position\n",
    "cols = list(df)\n",
    "cols.insert(0, cols.pop(cols.index('id')))\n",
    "df = df.loc[:, cols]\n",
    "df.head(5)"
   ]
  },
  {
   "cell_type": "code",
   "execution_count": 816,
   "id": "95648215-5c7b-42ba-82f9-1b0e53d81673",
   "metadata": {},
   "outputs": [
    {
     "data": {
      "text/plain": [
       "HP                 194\n",
       "Lenovo             129\n",
       "Asus               107\n",
       "ASUS                97\n",
       "Dell                93\n",
       "APPLE               47\n",
       "ACER                46\n",
       "MSI                 42\n",
       "Acer                41\n",
       "LG                  17\n",
       "GIGABYTE             9\n",
       "MacBook              9\n",
       "Apple (MacBook)      5\n",
       "Chuwi                4\n",
       "Microsoft            3\n",
       "Surface              3\n",
       "itel                 3\n",
       "Gigabyte             2\n",
       "Intel                2\n",
       "Huawei               2\n",
       "Masstel              1\n",
       "Name: brand, dtype: int64"
      ]
     },
     "execution_count": 816,
     "metadata": {},
     "output_type": "execute_result"
    }
   ],
   "source": [
    "df['brand'].value_counts()"
   ]
  },
  {
   "cell_type": "code",
   "execution_count": 817,
   "id": "56f7e067",
   "metadata": {},
   "outputs": [],
   "source": [
    "# Change 'Apple (MacBook)' into 'Macbook'\n",
    "df['brand'] = df['brand'].replace(['Apple (MacBook)'], 'Macbook')"
   ]
  },
  {
   "cell_type": "code",
   "execution_count": 818,
   "id": "1c0ce241-5fc4-4c08-8ee1-964928fd3328",
   "metadata": {},
   "outputs": [
    {
     "data": {
      "text/plain": [
       "ASUS         204\n",
       "HP           194\n",
       "LENOVO       129\n",
       "DELL          93\n",
       "ACER          87\n",
       "APPLE         47\n",
       "MSI           42\n",
       "LG            17\n",
       "MACBOOK       14\n",
       "GIGABYTE      11\n",
       "CHUWI          4\n",
       "ITEL           3\n",
       "SURFACE        3\n",
       "MICROSOFT      3\n",
       "INTEL          2\n",
       "HUAWEI         2\n",
       "MASSTEL        1\n",
       "Name: brand, dtype: int64"
      ]
     },
     "execution_count": 818,
     "metadata": {},
     "output_type": "execute_result"
    }
   ],
   "source": [
    "df['brand'] = df['brand'].str.upper()\n",
    "df['brand'].value_counts()"
   ]
  },
  {
   "cell_type": "code",
   "execution_count": 819,
   "id": "29447f57",
   "metadata": {},
   "outputs": [],
   "source": [
    "from IPython.core.interactiveshell import InteractiveShell\n",
    "InteractiveShell.ast_node_interactivity = \"all\""
   ]
  },
  {
   "cell_type": "code",
   "execution_count": 820,
   "id": "b9b91ea4-35d7-41cc-98de-d71893f37035",
   "metadata": {
    "tags": []
   },
   "outputs": [
    {
     "name": "stdout",
     "output_type": "stream",
     "text": [
      "Before clean 'cpu':\n",
      "*****\n",
      "Intel Core i5 Tiger Lake                                                           56\n",
      "Intel Core i5-1135G7 ( 2.4 GHz - 4.2 GHz / 8MB / 4 nhân, 8 luồng ) i5-1135G7      55\n",
      "Intel Core i7 Tiger Lake                                                           36\n",
      "Intel Core i5-1235U ( 1.3 GHz - 4.4GHz / 12MB / 10 nhân, 12 luồng ) i5-1235U       28\n",
      "Intel Core i3-1115G4 ( 3.0 GHz - 4.10 GHz / 6MB / 2 nhân, 4 luồng ) i3-1115G4     23\n",
      "                                                                                   ..\n",
      "Core i5, 1135G7                                                                     1\n",
      "Intel, Core i9, 11900H                                                              1\n",
      "Intel Core i7-12650H ( 2.3 GHz - 4.7 GHz / 24MB / 10 nhân, 12 luồng ) i7-12650H     1\n",
      "Intel Core i7-1250U ( 1.1 GHz - 4.7 GHz / 12MB / 10 nhân, 12 luồng ) i7-1250U       1\n",
      "Intel Core i7  Core i7                                                              1\n",
      "Name: cpu, Length: 161, dtype: int64\n"
     ]
    }
   ],
   "source": [
    "print(\"Before clean 'cpu':\")\n",
    "print('*****')\n",
    "print(df['cpu'].value_counts())"
   ]
  },
  {
   "cell_type": "code",
   "execution_count": 821,
   "id": "824bc13e-96a2-4307-b813-10858de23116",
   "metadata": {
    "tags": []
   },
   "outputs": [],
   "source": [
    "def clean_cpu():\n",
    "    for i, row in df.iterrows():\n",
    "        if 'i3' in df.at[i,'cpu']:\n",
    "            df.at[i,'cpu'] = 'Core i3'\n",
    "        if 'i5' in df.at[i,'cpu']:\n",
    "            df.at[i,'cpu'] = 'Core i5'\n",
    "        if 'i7' in df.at[i,'cpu']:\n",
    "            df.at[i,'cpu'] = 'Core i7'\n",
    "        if 'i9' in df.at[i,'cpu']:\n",
    "            df.at[i,'cpu'] = 'Core i9'\n",
    "        if 'Comet Lake' in df.at[i,'cpu']:\n",
    "            df.at[i,'cpu'] = 'Intel Comet Lake'\n",
    "        if 'Tiger Lake' in df.at[i,'cpu']:\n",
    "            df.at[i,'cpu'] = 'Intel Tiger Lake'\n",
    "        if 'Ice Lake' in df.at[i,'cpu']:\n",
    "            df.at[i,'cpu'] = 'Intel Ice Lake'\n",
    "        if 'Coffee Lake' in df.at[i,'cpu']:\n",
    "            df.at[i,'cpu'] = 'Intel Coffee Lake'\n",
    "        if 'Pentium' in df.at[i,'cpu']:\n",
    "            df.at[i,'cpu'] = 'Intel Pentium'\n",
    "        if 'Celeron' in df.at[i,'cpu']:\n",
    "            df.at[i,'cpu'] = 'Intel Celeron'\n",
    "        if 'M1' in df.at[i,'cpu'] and 'Pro' in df.at[i,'cpu']:\n",
    "            df.at[i,'cpu'] = 'Apple M1 Pro'\n",
    "        if 'M1' in df.at[i,'cpu'] and 'Pro' not in df.at[i,'cpu']:\n",
    "            df.at[i,'cpu'] = 'Apple M1'\n",
    "        if 'M2' in df.at[i,'cpu'] and 'Pro' in df.at[i,'cpu']:\n",
    "            df.at[i,'cpu'] = 'Apple M2 Pro'\n",
    "        if 'M2' in df.at[i,'cpu'] and 'Pro' not in df.at[i,'cpu']:\n",
    "            df.at[i,'cpu'] = 'Apple M2'\n",
    "        if 'Ryzen 3' in df.at[i,'cpu']:\n",
    "            df.at[i,'cpu'] = 'AMD Ryzen 3'\n",
    "        if 'Ryzen 5' in df.at[i,'cpu']:\n",
    "            df.at[i,'cpu'] = 'AMD Ryzen 5'\n",
    "        if 'Ryzen 7' in df.at[i,'cpu']:\n",
    "            df.at[i,'cpu'] = 'AMD Ryzen 7'"
   ]
  },
  {
   "cell_type": "code",
   "execution_count": 822,
   "id": "2fa6c042-3910-4c96-995d-c550984ea717",
   "metadata": {},
   "outputs": [],
   "source": [
    "clean_cpu()"
   ]
  },
  {
   "cell_type": "code",
   "execution_count": 823,
   "id": "e59c372e",
   "metadata": {},
   "outputs": [
    {
     "name": "stdout",
     "output_type": "stream",
     "text": [
      "After clean 'cpu':\n",
      "*****\n",
      "Core i5          337\n",
      "Core i7          140\n",
      "Core i3          116\n",
      "AMD Ryzen 5       83\n",
      "AMD Ryzen 7       82\n",
      "Apple M2          26\n",
      "Apple M1          24\n",
      "Intel Celeron     15\n",
      "Apple M1 Pro      14\n",
      "AMD Ryzen 3        8\n",
      "Intel Pentium      7\n",
      "Core i9            4\n",
      "Name: cpu, dtype: int64\n"
     ]
    }
   ],
   "source": [
    "print(\"After clean 'cpu':\")\n",
    "print('*****')\n",
    "print(df['cpu'].value_counts())"
   ]
  },
  {
   "cell_type": "code",
   "execution_count": 824,
   "id": "0f2203a6",
   "metadata": {},
   "outputs": [],
   "source": [
    "def cpu_brand_generate(value):\n",
    "    if 'Core' in value or 'Intel' in value:\n",
    "        return 'Intel'\n",
    "    if 'Apple' in value:\n",
    "        return 'Apple'\n",
    "    if 'AMD ' in value:\n",
    "        return 'AMD'"
   ]
  },
  {
   "cell_type": "code",
   "execution_count": 825,
   "id": "eac0e67e",
   "metadata": {},
   "outputs": [],
   "source": [
    "df['cpu_brand'] = df['cpu'].map(cpu_brand_generate)"
   ]
  },
  {
   "cell_type": "code",
   "execution_count": 826,
   "id": "ac50c584-0f95-4e53-91dc-0f5cd882f871",
   "metadata": {},
   "outputs": [
    {
     "name": "stdout",
     "output_type": "stream",
     "text": [
      "<class 'pandas.core.frame.DataFrame'>\n",
      "Int64Index: 856 entries, 0 to 863\n",
      "Data columns (total 15 columns):\n",
      " #   Column      Non-Null Count  Dtype  \n",
      "---  ------      --------------  -----  \n",
      " 0   id          856 non-null    int32  \n",
      " 1   name        856 non-null    object \n",
      " 2   price       856 non-null    int32  \n",
      " 3   brand       856 non-null    object \n",
      " 4   cpu         856 non-null    object \n",
      " 5   ram         856 non-null    int32  \n",
      " 6   scrsize     856 non-null    float64\n",
      " 7   gpu         856 non-null    object \n",
      " 8   drive_type  856 non-null    object \n",
      " 9   memory      856 non-null    int32  \n",
      " 10  opersystem  856 non-null    object \n",
      " 11  weight      856 non-null    float64\n",
      " 12  shop        856 non-null    object \n",
      " 13  url         856 non-null    object \n",
      " 14  cpu_brand   856 non-null    object \n",
      "dtypes: float64(2), int32(4), object(9)\n",
      "memory usage: 125.9+ KB\n"
     ]
    }
   ],
   "source": [
    "# Change float type to int type\n",
    "df['price'] = df['price'].astype(int)\n",
    "df.info()"
   ]
  },
  {
   "cell_type": "code",
   "execution_count": 827,
   "id": "b3c08c8d-a3b8-4f06-88ad-01c42f086141",
   "metadata": {
    "tags": []
   },
   "outputs": [
    {
     "data": {
      "text/plain": [
       "Onboard  Intel Iris Xe Graphics                          160\n",
       "Intel Iris Xe Graphics                                    70\n",
       "Card tích hợp - Intel Iris Xe Graphics                    69\n",
       "Onboard  Intel UHD Graphics                               58\n",
       "Card tích hợp - Intel UHD Graphics                        42\n",
       "                                                        ... \n",
       "Card rời - NVIDIA GeForce RTX 3070, 8 GB                   1\n",
       "Card tích hợp - 10 nhân GPU                                1\n",
       "NVIDIA Quadro T500 4GB                                     1\n",
       "Radeon Pro 5300M  4GB  GDDR6 / Intel UHD Graphics 630      1\n",
       "GeForce MX330  2GB  GDDR5 / Intel Iris Xe Graphics         1\n",
       "Name: gpu, Length: 108, dtype: int64"
      ]
     },
     "execution_count": 827,
     "metadata": {},
     "output_type": "execute_result"
    }
   ],
   "source": [
    "df['gpu'].value_counts()"
   ]
  },
  {
   "cell_type": "code",
   "execution_count": 828,
   "id": "aaf7a5b1-89dd-4a64-b89c-4fcfba09d075",
   "metadata": {
    "jupyter": {
     "source_hidden": true
    },
    "tags": []
   },
   "outputs": [],
   "source": [
    "def clean_gpu():\n",
    "    intel_hd_gpu = ['Intel HD 620', 'Intel HD 520']\n",
    "    apple_gpu = ['Apple M1 GPU', 'Apple M2 GPU']\n",
    "    \n",
    "    for i, row in df.iterrows():\n",
    "            if re.search('GTX', df.at[i,'gpu'], re.IGNORECASE):\n",
    "                if '1650' in df.at[i,'gpu']:\n",
    "                    df.at[i,'gpu'] = 'GeForce GTX1650 (4GB)'\n",
    "            if re.search('RTX', df.at[i,'gpu'], re.IGNORECASE):\n",
    "                if '3070' in df.at[i,'gpu']:\n",
    "                    df.at[i,'gpu'] = 'GeForce RTX3070 (8GB)'\n",
    "                elif '3060' in df.at[i,'gpu']:\n",
    "                    df.at[i,'gpu'] = 'GeForce RTX3060 (6GB)'\n",
    "                elif '3050' in df.at[i,'gpu'] and 'Ti' in df.at[i,'gpu']:\n",
    "                    df.at[i,'gpu'] = 'GeForce RTX3050Ti (4GB)'\n",
    "                elif '3050' in df.at[i,'gpu'] and 'Ti' not in df.at[i,'gpu']:\n",
    "                    df.at[i,'gpu'] = 'GeForce RTX3050 (4GB)'\n",
    "                elif '1650' in df.at[i,'gpu']:\n",
    "                    df.at[i,'gpu'] = 'GeForce RTX1650 (4GB)'\n",
    "            if re.search('MX', df.at[i,'gpu'], re.IGNORECASE):\n",
    "                if '570' in df.at[i,'gpu']:\n",
    "                    df.at[i,'gpu'] = 'GeForce MX570 (2GB)'\n",
    "                elif '550' in df.at[i,'gpu']:\n",
    "                    df.at[i,'gpu'] = 'GeForce MX550 (2GB)'\n",
    "                elif '450' in df.at[i,'gpu']:\n",
    "                    df.at[i,'gpu'] = 'GeForce MX450 (2GB)'\n",
    "                elif '350' in df.at[i,'gpu']:\n",
    "                    df.at[i,'gpu'] = 'GeForce MX350 (2GB)'\n",
    "                elif '330' in df.at[i,'gpu']:\n",
    "                    df.at[i,'gpu'] = 'GeForce MX330 (2GB)'\n",
    "            if re.search('Quadro ', df.at[i,'gpu'], re.IGNORECASE):\n",
    "                df.at[i,'gpu'] = 'Quadro T500 (4GB)'\n",
    "            if re.search('Intel', df.at[i,'gpu'], re.IGNORECASE):\n",
    "                if re.search('Iris', df.at[i,'gpu'], re.IGNORECASE):\n",
    "                    df.at[i,'gpu'] = 'Intel Iris Xe'\n",
    "                if re.search('UHD', df.at[i,'gpu'], re.IGNORECASE):\n",
    "                    df.at[i,'gpu'] = 'Intel UHD 620'\n",
    "                if re.search('HD', df.at[i,'gpu'], re.IGNORECASE) and not re.search('UHD', df.at[i,'gpu'], re.IGNORECASE):\n",
    "                    df.at[i,'gpu'] = random.choice(intel_hd_gpu)\n",
    "            if re.search('Radeon', df.at[i,'gpu'], re.IGNORECASE):\n",
    "                df.at[i,'gpu'] = 'Radeon Vega'\n",
    "            if 'Onboard' in df.at[i,'gpu']:\n",
    "                if df.at[i,'brand'] == 'APPLE':\n",
    "                    df.at[i,'gpu'] = random.choice(apple_gpu)\n",
    "                else:\n",
    "                    df.at[i,'gpu'] = random.choice(intel_hd_gpu + ['Intel Iris Xe', 'Intel UHD 620'])\n",
    "            if re.search('Card tích hợp', df.at[i,'gpu'], re.IGNORECASE):\n",
    "                df.at[i,'gpu'] = random.choice(apple_gpu)\n",
    "            if re.search('M2', df.at[i,'gpu'], re.IGNORECASE):\n",
    "                df.at[i,'gpu'] = 'Apple M2 GPU'\n",
    "            if re.search('M1', df.at[i,'gpu'], re.IGNORECASE):\n",
    "                df.at[i,'gpu'] = 'Apple M1 GPU'"
   ]
  },
  {
   "cell_type": "code",
   "execution_count": 829,
   "id": "1ea680f3-a402-4d62-b021-3f077f739137",
   "metadata": {},
   "outputs": [],
   "source": [
    "clean_gpu()"
   ]
  },
  {
   "cell_type": "code",
   "execution_count": 830,
   "id": "50004832-def9-48f4-b6a5-9404eeecb6bf",
   "metadata": {},
   "outputs": [
    {
     "data": {
      "text/plain": [
       "Intel Iris Xe              323\n",
       "Intel UHD 620              153\n",
       "GeForce RTX3050 (4GB)       87\n",
       "Radeon Vega                 81\n",
       "GeForce RTX3050Ti (4GB)     44\n",
       "GeForce RTX3060 (6GB)       34\n",
       "Apple M2 GPU                31\n",
       "GeForce GTX1650 (4GB)       29\n",
       "Apple M1 GPU                22\n",
       "GeForce MX550 (2GB)         11\n",
       "GeForce MX330 (2GB)          8\n",
       "GeForce RTX3070 (8GB)        7\n",
       "GeForce MX570 (2GB)          7\n",
       "GeForce MX350 (2GB)          7\n",
       "GeForce MX450 (2GB)          6\n",
       "Intel HD 620                 3\n",
       "Quadro T500 (4GB)            1\n",
       "Intel HD 520                 1\n",
       "GeForce RTX1650 (4GB)        1\n",
       "Name: gpu, dtype: int64"
      ]
     },
     "execution_count": 830,
     "metadata": {},
     "output_type": "execute_result"
    }
   ],
   "source": [
    "df['gpu'].value_counts()"
   ]
  },
  {
   "cell_type": "code",
   "execution_count": 831,
   "id": "d30a8459-4651-44a7-a7c5-32057b76a5dc",
   "metadata": {},
   "outputs": [],
   "source": [
    "def gpu_brand_generate(value):\n",
    "    if 'Intel' in value:\n",
    "        return 'Intel'\n",
    "    if 'Apple' in value:\n",
    "        return 'Apple'\n",
    "    if 'GeForce ' in value:\n",
    "        return 'Nvidia'\n",
    "    if 'Radeon' in value:\n",
    "        return 'AMD'"
   ]
  },
  {
   "cell_type": "code",
   "execution_count": 832,
   "id": "6fd0ea9f",
   "metadata": {},
   "outputs": [],
   "source": [
    "df['gpu_brand'] = df['gpu'].map(gpu_brand_generate)"
   ]
  },
  {
   "cell_type": "code",
   "execution_count": 833,
   "id": "590a5bbd-1b36-4610-abf4-91d80dda1010",
   "metadata": {},
   "outputs": [
    {
     "data": {
      "text/plain": [
       "Index(['id', 'name', 'price', 'brand', 'cpu', 'ram', 'scrsize', 'gpu',\n",
       "       'drive_type', 'memory', 'opersystem', 'weight', 'shop', 'url',\n",
       "       'cpu_brand', 'gpu_brand'],\n",
       "      dtype='object')"
      ]
     },
     "execution_count": 833,
     "metadata": {},
     "output_type": "execute_result"
    }
   ],
   "source": [
    "df.columns"
   ]
  },
  {
   "cell_type": "code",
   "execution_count": 834,
   "id": "6065b46e",
   "metadata": {},
   "outputs": [],
   "source": [
    "for i, row in df.iterrows():\n",
    "    if re.search('Window', df.at[i,'opersystem'], re.IGNORECASE):\n",
    "        if '10' in df.at[i,'opersystem']:\n",
    "            df.at[i,'opersystem'] = 'Windows 10'\n",
    "        if '11' in df.at[i,'opersystem']:\n",
    "            df.at[i,'opersystem'] = 'Windows 11'\n",
    "    if re.search('Mac', df.at[i,'opersystem'], re.IGNORECASE) or re.search('Fedora', df.at[i,'opersystem'], re.IGNORECASE):\n",
    "        df.at[i,'opersystem'] = 'Mac OS'\n",
    "    if re.search('Free', df.at[i,'opersystem'], re.IGNORECASE) or re.search('No', df.at[i,'opersystem'], re.IGNORECASE):\n",
    "        df.at[i,'opersystem'] = 'Windows 10'"
   ]
  },
  {
   "cell_type": "code",
   "execution_count": 835,
   "id": "2bba1523",
   "metadata": {},
   "outputs": [
    {
     "data": {
      "text/plain": [
       "array(['Windows 11', 'Mac OS', 'Windows 10'], dtype=object)"
      ]
     },
     "execution_count": 835,
     "metadata": {},
     "output_type": "execute_result"
    }
   ],
   "source": [
    "df['opersystem'].unique()"
   ]
  },
  {
   "cell_type": "code",
   "execution_count": 836,
   "id": "39723de6-13d9-4eff-9ed1-bcf853f7a7a9",
   "metadata": {},
   "outputs": [
    {
     "data": {
      "text/html": [
       "<div>\n",
       "<style scoped>\n",
       "    .dataframe tbody tr th:only-of-type {\n",
       "        vertical-align: middle;\n",
       "    }\n",
       "\n",
       "    .dataframe tbody tr th {\n",
       "        vertical-align: top;\n",
       "    }\n",
       "\n",
       "    .dataframe thead th {\n",
       "        text-align: right;\n",
       "    }\n",
       "</style>\n",
       "<table border=\"1\" class=\"dataframe\">\n",
       "  <thead>\n",
       "    <tr style=\"text-align: right;\">\n",
       "      <th></th>\n",
       "      <th>id</th>\n",
       "      <th>name</th>\n",
       "      <th>brand</th>\n",
       "      <th>cpu</th>\n",
       "      <th>cpu_brand</th>\n",
       "      <th>ram</th>\n",
       "      <th>scrsize</th>\n",
       "      <th>gpu</th>\n",
       "      <th>gpu_brand</th>\n",
       "      <th>memory</th>\n",
       "      <th>drive_type</th>\n",
       "      <th>opersystem</th>\n",
       "      <th>weight</th>\n",
       "      <th>shop</th>\n",
       "      <th>price</th>\n",
       "      <th>url</th>\n",
       "    </tr>\n",
       "  </thead>\n",
       "  <tbody>\n",
       "    <tr>\n",
       "      <th>640</th>\n",
       "      <td>632</td>\n",
       "      <td>Laptop HP Elitebook 630 G9 (6M142PA) (i5-1235U...</td>\n",
       "      <td>HP</td>\n",
       "      <td>Core i5</td>\n",
       "      <td>Intel</td>\n",
       "      <td>8</td>\n",
       "      <td>13.3</td>\n",
       "      <td>Intel Iris Xe</td>\n",
       "      <td>Intel</td>\n",
       "      <td>256</td>\n",
       "      <td>SSD</td>\n",
       "      <td>Windows 11</td>\n",
       "      <td>1.3</td>\n",
       "      <td>Phongvu</td>\n",
       "      <td>19690000</td>\n",
       "      <td>https://phongvu.vn/laptop-hp-elitebook-630-g9-...</td>\n",
       "    </tr>\n",
       "    <tr>\n",
       "      <th>400</th>\n",
       "      <td>392</td>\n",
       "      <td>Laptop Microsoft Surface Pro 8 i5 1135G7/8GB/2...</td>\n",
       "      <td>MICROSOFT</td>\n",
       "      <td>Core i5</td>\n",
       "      <td>Intel</td>\n",
       "      <td>8</td>\n",
       "      <td>13.0</td>\n",
       "      <td>Intel Iris Xe</td>\n",
       "      <td>Intel</td>\n",
       "      <td>256</td>\n",
       "      <td>SDD</td>\n",
       "      <td>Windows 11</td>\n",
       "      <td>0.9</td>\n",
       "      <td>FPTShop</td>\n",
       "      <td>27990000</td>\n",
       "      <td>https://fptshop.com.vn/may-tinh-xach-tay/micro...</td>\n",
       "    </tr>\n",
       "    <tr>\n",
       "      <th>857</th>\n",
       "      <td>849</td>\n",
       "      <td>Laptop HP ProBook 440 G8 (614F2PA) (i5-1135G7)...</td>\n",
       "      <td>HP</td>\n",
       "      <td>Core i5</td>\n",
       "      <td>Intel</td>\n",
       "      <td>16</td>\n",
       "      <td>14.0</td>\n",
       "      <td>Intel Iris Xe</td>\n",
       "      <td>Intel</td>\n",
       "      <td>256</td>\n",
       "      <td>SSD</td>\n",
       "      <td>Windows 11</td>\n",
       "      <td>1.3</td>\n",
       "      <td>Phongvu</td>\n",
       "      <td>13990000</td>\n",
       "      <td>https://phongvu.vn/laptop-hp-probook-440-g8-i5...</td>\n",
       "    </tr>\n",
       "    <tr>\n",
       "      <th>809</th>\n",
       "      <td>801</td>\n",
       "      <td>Laptop Huawei Matebook NbD-WDI9 D14 (i3-1115G4...</td>\n",
       "      <td>HUAWEI</td>\n",
       "      <td>Core i3</td>\n",
       "      <td>Intel</td>\n",
       "      <td>8</td>\n",
       "      <td>14.0</td>\n",
       "      <td>Intel Iris Xe</td>\n",
       "      <td>Intel</td>\n",
       "      <td>256</td>\n",
       "      <td>SSD</td>\n",
       "      <td>Windows 11</td>\n",
       "      <td>1.4</td>\n",
       "      <td>Phongvu</td>\n",
       "      <td>12890000</td>\n",
       "      <td>https://phongvu.vn/laptop-huawei-matebook-nbd-...</td>\n",
       "    </tr>\n",
       "    <tr>\n",
       "      <th>300</th>\n",
       "      <td>292</td>\n",
       "      <td>MacBook Air M2 2022 13 inch 8CPU 8GPU 16GB 256...</td>\n",
       "      <td>MACBOOK</td>\n",
       "      <td>Apple M2</td>\n",
       "      <td>Apple</td>\n",
       "      <td>16</td>\n",
       "      <td>13.6</td>\n",
       "      <td>Apple M2 GPU</td>\n",
       "      <td>Apple</td>\n",
       "      <td>256</td>\n",
       "      <td>SDD</td>\n",
       "      <td>Mac OS</td>\n",
       "      <td>1.2</td>\n",
       "      <td>FPTShop</td>\n",
       "      <td>34990000</td>\n",
       "      <td>https://fptshop.com.vn/may-tinh-xach-tay/macbo...</td>\n",
       "    </tr>\n",
       "  </tbody>\n",
       "</table>\n",
       "</div>"
      ],
      "text/plain": [
       "      id                                               name      brand  \\\n",
       "640  632  Laptop HP Elitebook 630 G9 (6M142PA) (i5-1235U...         HP   \n",
       "400  392  Laptop Microsoft Surface Pro 8 i5 1135G7/8GB/2...  MICROSOFT   \n",
       "857  849  Laptop HP ProBook 440 G8 (614F2PA) (i5-1135G7)...         HP   \n",
       "809  801  Laptop Huawei Matebook NbD-WDI9 D14 (i3-1115G4...     HUAWEI   \n",
       "300  292  MacBook Air M2 2022 13 inch 8CPU 8GPU 16GB 256...    MACBOOK   \n",
       "\n",
       "          cpu cpu_brand  ram  scrsize            gpu gpu_brand  memory  \\\n",
       "640   Core i5     Intel    8     13.3  Intel Iris Xe     Intel     256   \n",
       "400   Core i5     Intel    8     13.0  Intel Iris Xe     Intel     256   \n",
       "857   Core i5     Intel   16     14.0  Intel Iris Xe     Intel     256   \n",
       "809   Core i3     Intel    8     14.0  Intel Iris Xe     Intel     256   \n",
       "300  Apple M2     Apple   16     13.6   Apple M2 GPU     Apple     256   \n",
       "\n",
       "    drive_type  opersystem  weight     shop     price  \\\n",
       "640        SSD  Windows 11     1.3  Phongvu  19690000   \n",
       "400        SDD  Windows 11     0.9  FPTShop  27990000   \n",
       "857        SSD  Windows 11     1.3  Phongvu  13990000   \n",
       "809        SSD  Windows 11     1.4  Phongvu  12890000   \n",
       "300        SDD      Mac OS     1.2  FPTShop  34990000   \n",
       "\n",
       "                                                   url  \n",
       "640  https://phongvu.vn/laptop-hp-elitebook-630-g9-...  \n",
       "400  https://fptshop.com.vn/may-tinh-xach-tay/micro...  \n",
       "857  https://phongvu.vn/laptop-hp-probook-440-g8-i5...  \n",
       "809  https://phongvu.vn/laptop-huawei-matebook-nbd-...  \n",
       "300  https://fptshop.com.vn/may-tinh-xach-tay/macbo...  "
      ]
     },
     "execution_count": 836,
     "metadata": {},
     "output_type": "execute_result"
    }
   ],
   "source": [
    "column_names = ['id', 'name', 'brand', 'cpu', 'cpu_brand', 'ram', 'scrsize', 'gpu', 'gpu_brand',\n",
    "       'memory', 'drive_type', 'opersystem', 'weight', 'shop', 'price', 'url']\n",
    "df = df.reindex(columns=column_names)\n",
    "df.sample(5)"
   ]
  },
  {
   "cell_type": "code",
   "execution_count": 857,
   "id": "59a3b2d1",
   "metadata": {},
   "outputs": [],
   "source": [
    "for i, row in df.iterrows():\n",
    "    clean_name = re.sub('(\\w*/)\\w*', '', df.at[i, 'name'])\n",
    "    clean_name = re.sub('\\(.*\\)', '', clean_name)\n",
    "    clean_name = re.sub('i\\d.*', '', clean_name)\n",
    "    clean_name = re.sub('GeForce.*', '', clean_name)\n",
    "    clean_name = re.sub('OLED.*', '', clean_name)\n",
    "    clean_name = re.sub('GTX.*', '', clean_name)\n",
    "    clean_name = re.sub('RTX.*', '', clean_name)\n",
    "    clean_name = re.sub('\\\"', '', clean_name)\n",
    "    clean_name = re.sub('Laptop', '', clean_name)\n",
    "    df.at[i, 'name'] = clean_name.strip()"
   ]
  },
  {
   "cell_type": "code",
   "execution_count": 858,
   "id": "002f15d5",
   "metadata": {},
   "outputs": [
    {
     "data": {
      "text/plain": [
       "'Acer TravelMate B3 TMB311 31 C2HB'"
      ]
     },
     "execution_count": 858,
     "metadata": {},
     "output_type": "execute_result"
    }
   ],
   "source": [
    "df['name'][0]"
   ]
  },
  {
   "cell_type": "code",
   "execution_count": 859,
   "id": "6ea2d6c3-860d-453c-98cd-69a0b893cd49",
   "metadata": {},
   "outputs": [
    {
     "name": "stdout",
     "output_type": "stream",
     "text": [
      "<class 'pandas.core.frame.DataFrame'>\n",
      "Int64Index: 856 entries, 0 to 863\n",
      "Data columns (total 16 columns):\n",
      " #   Column      Non-Null Count  Dtype  \n",
      "---  ------      --------------  -----  \n",
      " 0   id          856 non-null    int32  \n",
      " 1   name        856 non-null    object \n",
      " 2   brand       856 non-null    object \n",
      " 3   cpu         856 non-null    object \n",
      " 4   cpu_brand   856 non-null    object \n",
      " 5   ram         856 non-null    int32  \n",
      " 6   scrsize     856 non-null    float64\n",
      " 7   gpu         856 non-null    object \n",
      " 8   gpu_brand   855 non-null    object \n",
      " 9   memory      856 non-null    int32  \n",
      " 10  drive_type  856 non-null    object \n",
      " 11  opersystem  856 non-null    object \n",
      " 12  weight      856 non-null    float64\n",
      " 13  shop        856 non-null    object \n",
      " 14  price       856 non-null    int32  \n",
      " 15  url         856 non-null    object \n",
      "dtypes: float64(2), int32(4), object(10)\n",
      "memory usage: 132.6+ KB\n"
     ]
    }
   ],
   "source": [
    "df.info()"
   ]
  },
  {
   "cell_type": "code",
   "execution_count": 861,
   "id": "987e66e3-2246-40b9-b059-1786d1e97d17",
   "metadata": {},
   "outputs": [],
   "source": [
    "df.to_csv(os.path.abspath('') + '/../data/clean/data.csv', index=False)"
   ]
  }
 ],
 "metadata": {
  "kernelspec": {
   "display_name": "Python 3",
   "language": "python",
   "name": "python3"
  },
  "language_info": {
   "codemirror_mode": {
    "name": "ipython",
    "version": 3
   },
   "file_extension": ".py",
   "mimetype": "text/x-python",
   "name": "python",
   "nbconvert_exporter": "python",
   "pygments_lexer": "ipython3",
   "version": "3.8.10"
  },
  "vscode": {
   "interpreter": {
    "hash": "916dbcbb3f70747c44a77c7bcd40155683ae19c65e1c03b4aa3499c5328201f1"
   }
  }
 },
 "nbformat": 4,
 "nbformat_minor": 5
}
