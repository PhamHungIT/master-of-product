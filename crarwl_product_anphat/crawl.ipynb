{
 "cells": [
  {
   "cell_type": "code",
   "execution_count": 35,
   "metadata": {},
   "outputs": [
    {
     "name": "stdout",
     "output_type": "stream",
     "text": [
      "Crawl Page 1\n",
      "Crawl Page 2\n",
      "Crawl Page 3\n",
      "Crawl Page 4\n",
      "Crawl Page 5\n",
      "Crawl Page 6\n",
      "Crawl Page 7\n",
      "Crawl Page 8\n",
      "Crawl Page 9\n",
      "Crawl Page 10\n",
      "Crawl Page 11\n",
      "Crawl Page 12\n",
      "Crawl Page 13\n",
      "Crawl Page 14\n",
      "Crawl Page 15\n",
      "Crawl Page 16\n"
     ]
    }
   ],
   "source": [
    "import numpy as np\n",
    "from selenium import webdriver\n",
    "from time import sleep\n",
    "import random\n",
    "from selenium.common.exceptions import NoSuchElementException, ElementNotInteractableException\n",
    "from selenium.webdriver.common.by import By\n",
    "\n",
    "import pandas as pd \n",
    "\n",
    "driver = webdriver.Firefox()\n",
    "\n",
    "#URL\n",
    "links, title, price, original_price, discount = [],[],[],[],[]\n",
    "driver.get(\"https://www.anphatpc.com.vn/may-tinh-xach-tay-laptop.html\")\n",
    "sleep(random.randint(5,10))\n",
    "\n",
    "# get link/tile/price/oringinal price/discount\n",
    "\n",
    "# change page\n",
    "#   /html/body/section/div/div[6]/div[3]/a[1]  preview\n",
    "#   /html/body/section/div/div[6]/div[3]/a[8] 1->4 && 13 -> 16\n",
    "#   /html/body/section/div/div[6]/div[3]/a[9] 5->12\n",
    "\n",
    "count = 1\n",
    "while True:\n",
    "        print(\"Crawl Page \" + str(count))\n",
    "        # try:\n",
    "        sleep(random.randint(7,10))\n",
    "        elems_link = driver.find_elements(By.CSS_SELECTOR , \".p-text .p-name\")\n",
    "        links = [elem_link.get_attribute('href') for elem_link in elems_link] + links\n",
    "\n",
    "        elems_title = driver.find_elements(By.CSS_SELECTOR , \".p-text .p-name h3\")\n",
    "        title =[elm_text.text for elm_text in elems_title] + title\n",
    "\n",
    "        elems_price = driver.find_elements(By.CSS_SELECTOR , \".p-text .price-container .p-price\")\n",
    "        price =  [elm_price.text for elm_price in elems_price] + price\n",
    "        \n",
    "        elems_original_price = driver.find_elements(By.CSS_SELECTOR , \".p-text .price-container .p-old-price\")\n",
    "        original_price =  [elm_original_price.text for elm_original_price in elems_original_price] + original_price\n",
    "        \n",
    "        elems_discount = driver.find_elements(By.CSS_SELECTOR , \".p-text .price-container .p-discount\")\n",
    "        discount = [elm_discount.text for elm_discount in elems_discount] + discount\n",
    "\n",
    "        sleep(random.randint(7,10))\n",
    "        if(count <= 4): \n",
    "            next_pagination = driver.find_element(\"xpath\", \"/html/body/section/div/div[6]/div[3]/a[8]\")\n",
    "            next_pagination.click()\n",
    "        elif(count >=5 and count <=12):\n",
    "            next_pagination = driver.find_element(\"xpath\", \"/html/body/section/div/div[6]/div[3]/a[9]\")\n",
    "            next_pagination.click()\n",
    "        elif(count == 13):\n",
    "            next_pagination = driver.find_element(\"xpath\", \"/html/body/section/div/div[6]/div[3]/a[6]\")\n",
    "            next_pagination.click()\n",
    "        elif(count == 14):\n",
    "            next_pagination = driver.find_element(\"xpath\", \"/html/body/section/div/div[6]/div[3]/a[7]\")\n",
    "            next_pagination.click()        \n",
    "        elif(count == 15):\n",
    "            next_pagination = driver.find_element(\"xpath\", \"/html/body/section/div/div[6]/div[3]/a[8]\")\n",
    "            next_pagination.click()\n",
    "        elif(count == 16):\n",
    "            break\n",
    "        \n",
    "        count +=1\n",
    "            \n",
    "    \n",
    "df1 = pd.DataFrame(list(zip(title, links, price, original_price, discount )), columns=['title', 'link_item', 'price', 'original_price', 'discount' ])  \n",
    "df1['index'] = np.arange(1, len(df1) +1)\n",
    "    \n",
    "#Close browser\n",
    "driver.close()    \n",
    "                "
   ]
  },
  {
   "cell_type": "code",
   "execution_count": 36,
   "metadata": {},
   "outputs": [
    {
     "name": "stdout",
     "output_type": "stream",
     "text": [
      "                                                 title  \\\n",
      "0    Microsoft Surface Pro 7 Plus (core i5-1135G7 |...   \n",
      "1    Microsoft Surface Pro 7 Plus (core i5-1135G7 |...   \n",
      "2    Microsoft Surface Pro 7 Plus (core i5-1135G7 |...   \n",
      "3    Microsoft Surface Pro 7 Plus (core i7-1165G7 |...   \n",
      "4    Microsoft Surface Pro 7 Plus (core i7-1165G7 |...   \n",
      "..                                                 ...   \n",
      "615  Laptop Lenovo Legion 5 15IAH7H 82RB0047VN (Cor...   \n",
      "616  Laptop Apple Macbook Pro 14 inch M1 Pro chip 1...   \n",
      "617  Điện thoại di động Asus ROG 6 AI2201-1A005WW (...   \n",
      "618  Laptop Dell Latitude 3520 70280536 (Core i3-11...   \n",
      "619  Laptop Lenovo ThinkPad E14 AMDL G3 T - 20Y700B...   \n",
      "\n",
      "                                             link_item         price  \\\n",
      "0    https://www.anphatpc.com.vn/microsoft-surface-...  31.990.000 đ   \n",
      "1    https://www.anphatpc.com.vn/microsoft-surface-...  40.590.000 đ   \n",
      "2    https://www.anphatpc.com.vn/microsoft-surface-...  40.590.000 đ   \n",
      "3    https://www.anphatpc.com.vn/microsoft-surface-...  41.990.000 đ   \n",
      "4    https://www.anphatpc.com.vn/microsoft-surface-...  41.990.000 đ   \n",
      "..                                                 ...           ...   \n",
      "615  https://www.anphatpc.com.vn/laptop-lenovo-legi...  37.990.000 đ   \n",
      "616  https://www.anphatpc.com.vn/laptop-apple-macbo...  53.900.000 đ   \n",
      "617  https://www.anphatpc.com.vn/dien-thoai-di-dong...  17.990.000 đ   \n",
      "618  https://www.anphatpc.com.vn/laptop-dell-latitu...  11.990.000 đ   \n",
      "619  https://www.anphatpc.com.vn/laptop-lenovo-thin...  14.490.000 đ   \n",
      "\n",
      "    original_price discount  index  \n",
      "0     32.990.000 đ      -4%      1  \n",
      "1     41.990.000 đ      -4%      2  \n",
      "2     41.990.000 đ      -4%      3  \n",
      "3     42.990.000 đ      -3%      4  \n",
      "4     42.990.000 đ      -3%      5  \n",
      "..             ...      ...    ...  \n",
      "615   14.990.000 đ     -11%    616  \n",
      "616   10.990.000 đ     -28%    617  \n",
      "617   47.990.000 đ     -30%    618  \n",
      "618   50.990.000 đ     -21%    619  \n",
      "619   33.990.000 đ     -16%    620  \n",
      "\n",
      "[620 rows x 6 columns]\n"
     ]
    }
   ],
   "source": [
    "print(df1)"
   ]
  },
  {
   "cell_type": "code",
   "execution_count": 38,
   "metadata": {},
   "outputs": [],
   "source": [
    "df1.to_csv('laptop_anphat.csv', index=False)"
   ]
  }
 ],
 "metadata": {
  "kernelspec": {
   "display_name": "Python 3",
   "language": "python",
   "name": "python3"
  },
  "language_info": {
   "codemirror_mode": {
    "name": "ipython",
    "version": 3
   },
   "file_extension": ".py",
   "mimetype": "text/x-python",
   "name": "python",
   "nbconvert_exporter": "python",
   "pygments_lexer": "ipython3",
   "version": "3.10.1"
  },
  "orig_nbformat": 4,
  "vscode": {
   "interpreter": {
    "hash": "67e0cbc25fa4f5baaacba1240f401bc655b640f8e15cfc935dfee2e63491bdf4"
   }
  }
 },
 "nbformat": 4,
 "nbformat_minor": 2
}
